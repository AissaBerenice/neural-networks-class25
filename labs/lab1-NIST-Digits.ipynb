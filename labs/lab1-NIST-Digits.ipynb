{
 "cells": [
  {
   "metadata": {},
   "cell_type": "markdown",
   "source": [
    "# <span style=\"color:mediumvioletred\"> **LAB 1  Optical Recognition of Handwritten Digits**</span>\n",
    "### **Machine Learning**\n",
    "Aissa Berenice Gonzalez Fosado 752224\n",
    "\n",
    "<img src=\"https://oci02.img.iteso.mx/Identidades-De-Instancia/ITESO/Logos%20ITESO/Logo-ITESO-Principal-Gris.png\"  width=\"300\">"
   ],
   "id": "99eb7dd142c56b64"
  },
  {
   "metadata": {},
   "cell_type": "markdown",
   "source": [
    "Implementation of a two-layer perceptron (input and output) that recognizes handwritten digits from the UC Irvine – Machine Learning Repository dataset, located at:\n",
    "https://archive.ics.uci.edu/dataset/80/optical+recognition+of+handwriting+digits\n",
    "\n",
    "\n",
    "These are 8 x 8 images representing each of the 10 digits, along with the column with the correct category to which the image belongs. This data is also available in the scikit-learn dataset library in Python.\n",
    "You must have two versions of the Perceptron: one \"from scratch\" using only Numpy, and another with the Perceptron library (linear models). Compare this result to a multilayer perceptron (MLP) network with one or more hidden layers and at least two traditional machine learning algorithms (e.g., SVMs and Random Forest).\n",
    "The linear perceptron and MLP model libraries are available in scikit-learn.\n",
    "Be sure to measure the performance of these models, and in the case of neural networks, graph the learning curve over the number of training epochs."
   ],
   "id": "d187275ad5f9d9b0"
  },
  {
   "metadata": {},
   "cell_type": "code",
   "outputs": [],
   "execution_count": null,
   "source": [
    "# Standard scientific Python imports\n",
    "import matplotlib.pyplot as plt\n",
    "\n",
    "# Import datasets, classifiers and performance metrics\n",
    "# from sklearn import datasets, metrics, svm\n",
    "from sklearn.model_selection import train_test_split"
   ],
   "id": "68cda039d6c0ee97"
  }
 ],
 "metadata": {},
 "nbformat": 4,
 "nbformat_minor": 5
}

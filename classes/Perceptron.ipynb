{
 "cells": [
  {
   "cell_type": "markdown",
   "id": "7ea7c1fc",
   "metadata": {},
   "source": [
    "## Perceptron using Numpy"
   ]
  },
  {
   "cell_type": "code",
   "execution_count": 3,
   "id": "669179a0",
   "metadata": {},
   "outputs": [
    {
     "name": "stdout",
     "output_type": "stream",
     "text": [
      "Learned weights: [-0.0987427  -0.00132105]\n",
      "Learned bias:    0.0\n",
      "Predictions on AND inputs: [1 0 0 0]\n",
      "Errors per epoch: [3, 3, 4, 4, 4, 4, 4, 4, 4, 4, 4, 4, 4, 4, 4, 4, 4, 4, 4, 4, 4, 4, 4, 4, 4, 4, 4, 4, 4, 4, 4, 4, 4, 4, 4, 4, 4, 4, 4, 4, 4, 4, 4, 4, 4, 4, 4, 4, 4, 4]\n"
     ]
    },
    {
     "data": {
      "image/png": "[encoded data removed]",
      "text/plain": [
       "<Figure size 432x288 with 1 Axes>"
      ]
     },
     "metadata": {
      "needs_background": "light"
     },
     "output_type": "display_data"
    }
   ],
   "source": [
    "# Perceptron for AND gate (NumPy) + learning curve plot (Matplotlib)\n",
    "\n",
    "import numpy as np\n",
    "import matplotlib.pyplot as plt\n",
    "\n",
    "# ---- Data: AND gate ----\n",
    "# Inputs (x1, x2) and targets y\n",
    "X = np.array([[0, 0],\n",
    "              [0, 1],\n",
    "              [1, 0],\n",
    "              [1, 1]], dtype=float)\n",
    "y = np.array([0, 1, 1, 0], dtype=float)\n",
    "\n",
    "# ---- Hyperparameters ----\n",
    "lr = 0.1          # learning rate\n",
    "max_epochs = 50   # safety cap; training will stop early when separable\n",
    "\n",
    "# ---- Initialization ----\n",
    "rng = np.random.default_rng(0)                  # reproducibility\n",
    "w = rng.normal(0, 0.01, size=X.shape[1])        # small random weights\n",
    "b = 0.0                                          # bias\n",
    "\n",
    "def step(z: float) -> float:\n",
    "    \"\"\"Heaviside step activation.\"\"\"\n",
    "    return 1.0 if z >= 0 else 0.0\n",
    "\n",
    "error_history = []  # number of misclassifications per epoch\n",
    "\n",
    "# ---- Training loop (Perceptron Learning Rule) ----\n",
    "for epoch in range(max_epochs):\n",
    "    errors = 0\n",
    "    for xi, target in zip(X, y):\n",
    "        z = np.dot(xi, w) + b\n",
    "        y_hat = step(z)\n",
    "        update = lr * (target - y_hat)   # nonzero only when misclassified\n",
    "        w += update * xi\n",
    "        b += update\n",
    "        errors += int(update != 0.0)\n",
    "    error_history.append(errors)\n",
    "    if errors == 0:   # perfectly classified => stop early\n",
    "        break\n",
    "\n",
    "# ---- Evaluate on training set ----\n",
    "preds = np.array([step(np.dot(xi, w) + b) for xi in X])\n",
    "\n",
    "print(\"Learned weights:\", w)\n",
    "print(\"Learned bias:   \", b)\n",
    "print(\"Predictions on AND inputs:\", preds.astype(int))\n",
    "print(\"Errors per epoch:\", error_history)\n",
    "\n",
    "# ---- Plot learning curve ----\n",
    "plt.figure()\n",
    "plt.plot(range(1, len(error_history) + 1), error_history, marker='o')\n",
    "plt.xlabel(\"Epoch\")\n",
    "plt.ylabel(\"Misclassifications\")\n",
    "plt.title(\"Perceptron Learning Curve on AND Gate\")\n",
    "plt.grid(True)\n",
    "plt.show()\n"
   ]
  },
  {
   "cell_type": "markdown",
   "id": "59f20003",
   "metadata": {},
   "source": [
    "## Perceptron using Scikit-Learn"
   ]
  },
  {
   "cell_type": "code",
   "execution_count": 3,
   "id": "0f942fdd",
   "metadata": {},
   "outputs": [
    {
     "name": "stdout",
     "output_type": "stream",
     "text": [
      "Learned weights (coef_): [[2. 1.]]\n",
      "Learned bias (intercept_): [-2.]\n",
      "Predictions: [0 0 0 1]\n",
      "Errors per epoch: [2, 1, 0]\n"
     ]
    },
    {
     "data": {
      "image/png": "[encoded data removed]",
      "text/plain": [
       "<Figure size 432x288 with 1 Axes>"
      ]
     },
     "metadata": {
      "needs_background": "light"
     },
     "output_type": "display_data"
    }
   ],
   "source": [
    "# scikit-learn Perceptron for AND gate + learning curve (errors per epoch)\n",
    "\n",
    "import numpy as np\n",
    "import matplotlib.pyplot as plt\n",
    "from sklearn.linear_model import Perceptron\n",
    "\n",
    "# ---- Data: AND gate ----\n",
    "X = np.array([[0, 0],\n",
    "              [0, 1],\n",
    "              [1, 0],\n",
    "              [1, 1]], dtype=float)\n",
    "y = np.array([0, 0, 0, 1])\n",
    "\n",
    "# ---- Model ----\n",
    "# Use warm_start + max_iter=1 and call partial_fit in a loop to expose epochs\n",
    "clf = Perceptron(fit_intercept=True, shuffle=False, tol=None,\n",
    "                 max_iter=1, warm_start=True, random_state=0)\n",
    "\n",
    "max_epochs = 50\n",
    "classes = np.array([0, 1])\n",
    "error_history = []\n",
    "\n",
    "for epoch in range(max_epochs):\n",
    "    # one full pass over the training set (one epoch)\n",
    "    clf.partial_fit(X, y, classes=classes)\n",
    "\n",
    "    # evaluate misclassifications after this epoch\n",
    "    preds = clf.predict(X)\n",
    "    errors = int(np.sum(preds != y))\n",
    "    error_history.append(errors)\n",
    "    if errors == 0:\n",
    "        break\n",
    "\n",
    "# ---- Report learned parameters and predictions ----\n",
    "print(\"Learned weights (coef_):\", clf.coef_)\n",
    "print(\"Learned bias (intercept_):\", clf.intercept_)\n",
    "print(\"Predictions:\", preds.astype(int))\n",
    "print(\"Errors per epoch:\", error_history)\n",
    "\n",
    "# ---- Plot learning curve ----\n",
    "plt.figure()\n",
    "plt.plot(range(1, len(error_history)+1), error_history, marker='o')\n",
    "plt.xlabel(\"Epoch\")\n",
    "plt.ylabel(\"Misclassifications\")\n",
    "plt.title(\"scikit-learn Perceptron on AND Gate\")\n",
    "plt.grid(True)\n",
    "plt.show()\n"
   ]
  },
  {
   "cell_type": "markdown",
   "id": "0a328af8",
   "metadata": {},
   "source": [
    "## Multilayered Perceptron with Scikit- Learn"
   ]
  },
  {
   "cell_type": "code",
   "execution_count": 4,
   "id": "2101c109",
   "metadata": {},
   "outputs": [],
   "source": [
    "from sklearn.neural_network import MLPClassifier\n",
    "X = [[0,0], [0, 1], [1, 0], [1, 1]]\n",
    "y= [0, 1, 1, 0]\n",
    "MyClsf = MLPClassifier(hidden_layer_sizes = (5, 5),random_state=42, max_iter=3000)"
   ]
  },
  {
   "cell_type": "code",
   "execution_count": 5,
   "id": "12136810",
   "metadata": {},
   "outputs": [
    {
     "data": {
      "text/plain": [
       "MLPClassifier(hidden_layer_sizes=(5, 5), max_iter=3000, random_state=42)"
      ]
     },
     "execution_count": 5,
     "metadata": {},
     "output_type": "execute_result"
    }
   ],
   "source": [
    "MyClsf.fit(X, y)"
   ]
  },
  {
   "cell_type": "code",
   "execution_count": 6,
   "id": "1180a950",
   "metadata": {},
   "outputs": [],
   "source": [
    "pred1 = MyClsf.predict(X)"
   ]
  },
  {
   "cell_type": "code",
   "execution_count": 7,
   "id": "3e9d60e1",
   "metadata": {},
   "outputs": [
    {
     "name": "stdout",
     "output_type": "stream",
     "text": [
      "[0 1 1 0]\n"
     ]
    }
   ],
   "source": [
    "print(pred1)"
   ]
  },
  {
   "cell_type": "code",
   "execution_count": 8,
   "id": "5cbfb287",
   "metadata": {},
   "outputs": [
    {
     "data": {
      "text/plain": [
       "1.0"
      ]
     },
     "execution_count": 8,
     "metadata": {},
     "output_type": "execute_result"
    }
   ],
   "source": [
    "from sklearn.metrics import accuracy_score\n",
    "accuracy_score(pred1, y)"
   ]
  },
  {
   "cell_type": "markdown",
   "id": "8e3d2086",
   "metadata": {},
   "source": [
    "## Another Perceptron Example to identify Hand-written digits"
   ]
  },
  {
   "cell_type": "code",
   "execution_count": 9,
   "id": "b3f3acb4",
   "metadata": {},
   "outputs": [
    {
     "data": {
      "text/plain": [
       "0.9393433500278241"
      ]
     },
     "execution_count": 9,
     "metadata": {},
     "output_type": "execute_result"
    }
   ],
   "source": [
    "from sklearn.datasets import load_digits\n",
    "from sklearn.linear_model import Perceptron\n",
    "X, y = load_digits(return_X_y=True)\n",
    "clf = Perceptron(tol=1e-3, random_state=0)\n",
    "clf.fit(X, y)\n",
    "clf.score(X, y)"
   ]
  },
  {
   "cell_type": "code",
   "execution_count": 12,
   "id": "df99ba74",
   "metadata": {},
   "outputs": [
    {
     "data": {
      "text/plain": [
       "115008"
      ]
     },
     "execution_count": 12,
     "metadata": {},
     "output_type": "execute_result"
    }
   ],
   "source": [
    "X.size\n"
   ]
  },
  {
   "cell_type": "code",
   "execution_count": null,
   "id": "72176cc1",
   "metadata": {},
   "outputs": [],
   "source": []
  }
 ],
 "metadata": {
  "kernelspec": {
   "display_name": "Python 3 (ipykernel)",
   "language": "python",
   "name": "python3"
  },
  "language_info": {
   "codemirror_mode": {
    "name": "ipython",
    "version": 3
   },
   "file_extension": ".py",
   "mimetype": "text/x-python",
   "name": "python",
   "nbconvert_exporter": "python",
   "pygments_lexer": "ipython3",
   "version": "3.9.12"
  }
 },
 "nbformat": 4,
 "nbformat_minor": 5
}

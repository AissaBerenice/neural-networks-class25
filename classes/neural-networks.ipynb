{
 "cells": [
  {
   "metadata": {},
   "cell_type": "markdown",
   "source": "",
   "id": "b93c83f0ec40f7f0"
  },
  {
   "metadata": {},
   "cell_type": "code",
   "outputs": [],
   "execution_count": null,
   "source": "",
   "id": "481d4f616ee0aa13"
  }
 ],
 "metadata": {},
 "nbformat": 4,
 "nbformat_minor": 5
}

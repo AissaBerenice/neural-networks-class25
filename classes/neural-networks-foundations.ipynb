{
 "cells": [
  {
   "metadata": {},
   "cell_type": "markdown",
   "source": [
    "# <span style=\"color:mediumvioletred\"> **Neural Networks Foundations & History - Class Notes**</span>\n",
    "### **Machine Learning**\n",
    "Aissa Berenice Gonzalez Fosado 752224\n",
    "\n",
    "<img src=\"https://oci02.img.iteso.mx/Identidades-De-Instancia/ITESO/Logos%20ITESO/Logo-ITESO-Principal-Gris.png\"  width=\"300\">\n",
    "\n"
   ],
   "id": "b93c83f0ec40f7f0"
  },
  {
   "metadata": {},
   "cell_type": "markdown",
   "source": [
    "## **Contents**\n",
    "1. Biological Foundations\n",
    "2. Historical Developments\n",
    "3. Perceptron (1958, 1969)\n",
    "4. Backpropagation (1974, 1986)\n",
    "5. Deep Learning (2012 – to date)"
   ],
   "id": "ed41e96f943ab7e6"
  }
 ],
 "metadata": {},
 "nbformat": 4,
 "nbformat_minor": 5
}

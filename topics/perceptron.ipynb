{
 "cells": [
  {
   "cell_type": "code",
   "execution_count": null,
   "id": "initial_id",
   "metadata": {
    "collapsed": true
   },
   "outputs": [],
   "source": [
    ""
   ]
  },
  {
   "metadata": {},
   "cell_type": "markdown",
   "source": [
    "Pesos - parametros\n",
    "\n",
    "learning rate- hace los pasos mas peque;os\n",
    "\n",
    "cada epoch cambian los pesos y se pone un maximo\n",
    "\n",
    "rng para que escoja los mismos valores iniciales\n",
    "weights\n",
    "bias para no atraparse en optimos locales, agarra vuelo\n",
    "\n",
    "\n",
    "X entradas y salidas\n",
    "ask for explanation of and or xor\n"
   ],
   "id": "b19f4cdf7c46e7c"
  }
 ],
 "metadata": {
  "kernelspec": {
   "display_name": "Python 3",
   "language": "python",
   "name": "python3"
  },
  "language_info": {
   "codemirror_mode": {
    "name": "ipython",
    "version": 2
   },
   "file_extension": ".py",
   "mimetype": "text/x-python",
   "name": "python",
   "nbconvert_exporter": "python",
   "pygments_lexer": "ipython2",
   "version": "2.7.6"
  }
 },
 "nbformat": 4,
 "nbformat_minor": 5
}
